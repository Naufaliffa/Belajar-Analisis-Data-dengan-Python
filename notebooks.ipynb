{
 "cells": [
  {
   "cell_type": "markdown",
   "metadata": {
    "id": "H9wADwK78DCz"
   },
   "source": [
    "# Proyek Analisis Data: Bike Sharing\n",
    "- **Nama:** Naufal Iffa Maulana Ramadhan\n",
    "- **Email:** naufalimr12a7@gmail.com\n",
    "- **ID Dicoding:** https://www.dicoding.com/users/mr_iffa/academies"
   ]
  },
  {
   "cell_type": "markdown",
   "metadata": {
    "id": "eE0raob58DC0"
   },
   "source": [
    "## Menentukan Pertanyaan Bisnis"
   ]
  },
  {
   "cell_type": "markdown",
   "metadata": {
    "id": "GmQeQ5YF8DC0"
   },
   "source": [
    "- Berapa banyak jumlah total sewa sepeda(cnt) pada musim panas(season =2)?\n",
    "- Berapa banyak jumlah total sewa sepeda(cnt) pada hari kerja(workingday=1) dan pada hari tidak bekerja(workingday=0) pada tahun 2011(yr=0)?\n",
    "- Apakah terdapat hubungan antara suhu(temp) dengan jumlah penyewaan sepeda kasual(casual)?\n"
   ]
  },
  {
   "cell_type": "markdown",
   "metadata": {
    "id": "H-z4QGlO8DC1"
   },
   "source": [
    "## Import Semua Packages/Library yang Digunakan"
   ]
  },
  {
   "cell_type": "code",
   "execution_count": 1,
   "metadata": {
    "id": "FVYwaObI8DC1",
    "ExecuteTime": {
     "end_time": "2024-02-13T08:29:25.230928100Z",
     "start_time": "2024-02-13T08:29:25.216924700Z"
    }
   },
   "outputs": [],
   "source": [
    "import pandas as pd\n",
    "import matplotlib.pyplot as plt\n",
    "import seaborn as sns"
   ]
  },
  {
   "cell_type": "markdown",
   "metadata": {
    "id": "h_Sh51Xy8DC1"
   },
   "source": [
    "## Data Wrangling"
   ]
  },
  {
   "cell_type": "markdown",
   "metadata": {
    "id": "sXU2GBYu8DC1"
   },
   "source": [
    "### Gathering Data"
   ]
  },
  {
   "cell_type": "code",
   "execution_count": 2,
   "metadata": {
    "id": "zjCBk1BI8DC1",
    "ExecuteTime": {
     "end_time": "2024-02-13T08:29:30.672592700Z",
     "start_time": "2024-02-13T08:29:30.619561800Z"
    }
   },
   "outputs": [],
   "source": [
    "df_hour = pd.read_csv(\"data/hour.csv\")\n",
    "df_day = pd.read_csv(\"data/day.csv\")"
   ]
  },
  {
   "cell_type": "code",
   "source": [
    "df_hour.head()"
   ],
   "metadata": {
    "colab": {
     "base_uri": "https://localhost:8080/",
     "height": 206
    },
    "id": "icFEVUmZDbVK",
    "outputId": "ce2ed2da-791a-4472-ef08-410688684554",
    "ExecuteTime": {
     "end_time": "2024-02-13T08:29:32.836100700Z",
     "start_time": "2024-02-13T08:29:32.779087400Z"
    }
   },
   "execution_count": 3,
   "outputs": [
    {
     "data": {
      "text/plain": "   instant      dteday  season  yr  mnth  hr  holiday  weekday  workingday  \\\n0        1  2011-01-01       1   0     1   0        0        6           0   \n1        2  2011-01-01       1   0     1   1        0        6           0   \n2        3  2011-01-01       1   0     1   2        0        6           0   \n3        4  2011-01-01       1   0     1   3        0        6           0   \n4        5  2011-01-01       1   0     1   4        0        6           0   \n\n   weathersit  temp   atemp   hum  windspeed  casual  registered  cnt  \n0           1  0.24  0.2879  0.81        0.0       3          13   16  \n1           1  0.22  0.2727  0.80        0.0       8          32   40  \n2           1  0.22  0.2727  0.80        0.0       5          27   32  \n3           1  0.24  0.2879  0.75        0.0       3          10   13  \n4           1  0.24  0.2879  0.75        0.0       0           1    1  ",
      "text/html": "<div>\n<style scoped>\n    .dataframe tbody tr th:only-of-type {\n        vertical-align: middle;\n    }\n\n    .dataframe tbody tr th {\n        vertical-align: top;\n    }\n\n    .dataframe thead th {\n        text-align: right;\n    }\n</style>\n<table border=\"1\" class=\"dataframe\">\n  <thead>\n    <tr style=\"text-align: right;\">\n      <th></th>\n      <th>instant</th>\n      <th>dteday</th>\n      <th>season</th>\n      <th>yr</th>\n      <th>mnth</th>\n      <th>hr</th>\n      <th>holiday</th>\n      <th>weekday</th>\n      <th>workingday</th>\n      <th>weathersit</th>\n      <th>temp</th>\n      <th>atemp</th>\n      <th>hum</th>\n      <th>windspeed</th>\n      <th>casual</th>\n      <th>registered</th>\n      <th>cnt</th>\n    </tr>\n  </thead>\n  <tbody>\n    <tr>\n      <th>0</th>\n      <td>1</td>\n      <td>2011-01-01</td>\n      <td>1</td>\n      <td>0</td>\n      <td>1</td>\n      <td>0</td>\n      <td>0</td>\n      <td>6</td>\n      <td>0</td>\n      <td>1</td>\n      <td>0.24</td>\n      <td>0.2879</td>\n      <td>0.81</td>\n      <td>0.0</td>\n      <td>3</td>\n      <td>13</td>\n      <td>16</td>\n    </tr>\n    <tr>\n      <th>1</th>\n      <td>2</td>\n      <td>2011-01-01</td>\n      <td>1</td>\n      <td>0</td>\n      <td>1</td>\n      <td>1</td>\n      <td>0</td>\n      <td>6</td>\n      <td>0</td>\n      <td>1</td>\n      <td>0.22</td>\n      <td>0.2727</td>\n      <td>0.80</td>\n      <td>0.0</td>\n      <td>8</td>\n      <td>32</td>\n      <td>40</td>\n    </tr>\n    <tr>\n      <th>2</th>\n      <td>3</td>\n      <td>2011-01-01</td>\n      <td>1</td>\n      <td>0</td>\n      <td>1</td>\n      <td>2</td>\n      <td>0</td>\n      <td>6</td>\n      <td>0</td>\n      <td>1</td>\n      <td>0.22</td>\n      <td>0.2727</td>\n      <td>0.80</td>\n      <td>0.0</td>\n      <td>5</td>\n      <td>27</td>\n      <td>32</td>\n    </tr>\n    <tr>\n      <th>3</th>\n      <td>4</td>\n      <td>2011-01-01</td>\n      <td>1</td>\n      <td>0</td>\n      <td>1</td>\n      <td>3</td>\n      <td>0</td>\n      <td>6</td>\n      <td>0</td>\n      <td>1</td>\n      <td>0.24</td>\n      <td>0.2879</td>\n      <td>0.75</td>\n      <td>0.0</td>\n      <td>3</td>\n      <td>10</td>\n      <td>13</td>\n    </tr>\n    <tr>\n      <th>4</th>\n      <td>5</td>\n      <td>2011-01-01</td>\n      <td>1</td>\n      <td>0</td>\n      <td>1</td>\n      <td>4</td>\n      <td>0</td>\n      <td>6</td>\n      <td>0</td>\n      <td>1</td>\n      <td>0.24</td>\n      <td>0.2879</td>\n      <td>0.75</td>\n      <td>0.0</td>\n      <td>0</td>\n      <td>1</td>\n      <td>1</td>\n    </tr>\n  </tbody>\n</table>\n</div>"
     },
     "execution_count": 3,
     "metadata": {},
     "output_type": "execute_result"
    }
   ]
  },
  {
   "cell_type": "code",
   "source": [
    "df_day.head()"
   ],
   "metadata": {
    "colab": {
     "base_uri": "https://localhost:8080/",
     "height": 1000
    },
    "id": "X4NXLiwkDdG0",
    "outputId": "1d1b4325-5807-4637-cc08-ae075f7f071f",
    "ExecuteTime": {
     "end_time": "2024-02-13T08:29:34.602298100Z",
     "start_time": "2024-02-13T08:29:34.397248200Z"
    }
   },
   "execution_count": 4,
   "outputs": [
    {
     "data": {
      "text/plain": "   instant      dteday  season  yr  mnth  holiday  weekday  workingday  \\\n0        1  2011-01-01       1   0     1        0        6           0   \n1        2  2011-01-02       1   0     1        0        0           0   \n2        3  2011-01-03       1   0     1        0        1           1   \n3        4  2011-01-04       1   0     1        0        2           1   \n4        5  2011-01-05       1   0     1        0        3           1   \n\n   weathersit      temp     atemp       hum  windspeed  casual  registered  \\\n0           2  0.344167  0.363625  0.805833   0.160446     331         654   \n1           2  0.363478  0.353739  0.696087   0.248539     131         670   \n2           1  0.196364  0.189405  0.437273   0.248309     120        1229   \n3           1  0.200000  0.212122  0.590435   0.160296     108        1454   \n4           1  0.226957  0.229270  0.436957   0.186900      82        1518   \n\n    cnt  \n0   985  \n1   801  \n2  1349  \n3  1562  \n4  1600  ",
      "text/html": "<div>\n<style scoped>\n    .dataframe tbody tr th:only-of-type {\n        vertical-align: middle;\n    }\n\n    .dataframe tbody tr th {\n        vertical-align: top;\n    }\n\n    .dataframe thead th {\n        text-align: right;\n    }\n</style>\n<table border=\"1\" class=\"dataframe\">\n  <thead>\n    <tr style=\"text-align: right;\">\n      <th></th>\n      <th>instant</th>\n      <th>dteday</th>\n      <th>season</th>\n      <th>yr</th>\n      <th>mnth</th>\n      <th>holiday</th>\n      <th>weekday</th>\n      <th>workingday</th>\n      <th>weathersit</th>\n      <th>temp</th>\n      <th>atemp</th>\n      <th>hum</th>\n      <th>windspeed</th>\n      <th>casual</th>\n      <th>registered</th>\n      <th>cnt</th>\n    </tr>\n  </thead>\n  <tbody>\n    <tr>\n      <th>0</th>\n      <td>1</td>\n      <td>2011-01-01</td>\n      <td>1</td>\n      <td>0</td>\n      <td>1</td>\n      <td>0</td>\n      <td>6</td>\n      <td>0</td>\n      <td>2</td>\n      <td>0.344167</td>\n      <td>0.363625</td>\n      <td>0.805833</td>\n      <td>0.160446</td>\n      <td>331</td>\n      <td>654</td>\n      <td>985</td>\n    </tr>\n    <tr>\n      <th>1</th>\n      <td>2</td>\n      <td>2011-01-02</td>\n      <td>1</td>\n      <td>0</td>\n      <td>1</td>\n      <td>0</td>\n      <td>0</td>\n      <td>0</td>\n      <td>2</td>\n      <td>0.363478</td>\n      <td>0.353739</td>\n      <td>0.696087</td>\n      <td>0.248539</td>\n      <td>131</td>\n      <td>670</td>\n      <td>801</td>\n    </tr>\n    <tr>\n      <th>2</th>\n      <td>3</td>\n      <td>2011-01-03</td>\n      <td>1</td>\n      <td>0</td>\n      <td>1</td>\n      <td>0</td>\n      <td>1</td>\n      <td>1</td>\n      <td>1</td>\n      <td>0.196364</td>\n      <td>0.189405</td>\n      <td>0.437273</td>\n      <td>0.248309</td>\n      <td>120</td>\n      <td>1229</td>\n      <td>1349</td>\n    </tr>\n    <tr>\n      <th>3</th>\n      <td>4</td>\n      <td>2011-01-04</td>\n      <td>1</td>\n      <td>0</td>\n      <td>1</td>\n      <td>0</td>\n      <td>2</td>\n      <td>1</td>\n      <td>1</td>\n      <td>0.200000</td>\n      <td>0.212122</td>\n      <td>0.590435</td>\n      <td>0.160296</td>\n      <td>108</td>\n      <td>1454</td>\n      <td>1562</td>\n    </tr>\n    <tr>\n      <th>4</th>\n      <td>5</td>\n      <td>2011-01-05</td>\n      <td>1</td>\n      <td>0</td>\n      <td>1</td>\n      <td>0</td>\n      <td>3</td>\n      <td>1</td>\n      <td>1</td>\n      <td>0.226957</td>\n      <td>0.229270</td>\n      <td>0.436957</td>\n      <td>0.186900</td>\n      <td>82</td>\n      <td>1518</td>\n      <td>1600</td>\n    </tr>\n  </tbody>\n</table>\n</div>"
     },
     "execution_count": 4,
     "metadata": {},
     "output_type": "execute_result"
    }
   ]
  },
  {
   "cell_type": "markdown",
   "metadata": {
    "id": "FHSiqaZp8DC1"
   },
   "source": [
    "### Assessing Data"
   ]
  },
  {
   "cell_type": "code",
   "source": [
    "#melihat informasi daridf_hour\n",
    "df_hour.info()"
   ],
   "metadata": {
    "id": "ax-3tEjc9Cj1",
    "colab": {
     "base_uri": "https://localhost:8080/"
    },
    "outputId": "a1664e52-69e5-463c-fc5a-e413f7533c36",
    "ExecuteTime": {
     "end_time": "2024-02-13T08:30:26.389801800Z",
     "start_time": "2024-02-13T08:30:26.345796400Z"
    }
   },
   "execution_count": 5,
   "outputs": [
    {
     "name": "stdout",
     "output_type": "stream",
     "text": [
      "<class 'pandas.core.frame.DataFrame'>\n",
      "RangeIndex: 17379 entries, 0 to 17378\n",
      "Data columns (total 17 columns):\n",
      " #   Column      Non-Null Count  Dtype  \n",
      "---  ------      --------------  -----  \n",
      " 0   instant     17379 non-null  int64  \n",
      " 1   dteday      17379 non-null  object \n",
      " 2   season      17379 non-null  int64  \n",
      " 3   yr          17379 non-null  int64  \n",
      " 4   mnth        17379 non-null  int64  \n",
      " 5   hr          17379 non-null  int64  \n",
      " 6   holiday     17379 non-null  int64  \n",
      " 7   weekday     17379 non-null  int64  \n",
      " 8   workingday  17379 non-null  int64  \n",
      " 9   weathersit  17379 non-null  int64  \n",
      " 10  temp        17379 non-null  float64\n",
      " 11  atemp       17379 non-null  float64\n",
      " 12  hum         17379 non-null  float64\n",
      " 13  windspeed   17379 non-null  float64\n",
      " 14  casual      17379 non-null  int64  \n",
      " 15  registered  17379 non-null  int64  \n",
      " 16  cnt         17379 non-null  int64  \n",
      "dtypes: float64(4), int64(12), object(1)\n",
      "memory usage: 2.3+ MB\n"
     ]
    }
   ]
  },
  {
   "cell_type": "code",
   "source": [
    "#melihat informasi dari df_day\n",
    "df_day.info()"
   ],
   "metadata": {
    "colab": {
     "base_uri": "https://localhost:8080/"
    },
    "id": "hPCc1wMIDM7V",
    "outputId": "6bbdfc56-c013-436e-ed02-1671055f790e",
    "ExecuteTime": {
     "end_time": "2024-02-13T08:30:27.320081900Z",
     "start_time": "2024-02-13T08:30:27.277082500Z"
    }
   },
   "execution_count": 6,
   "outputs": [
    {
     "name": "stdout",
     "output_type": "stream",
     "text": [
      "<class 'pandas.core.frame.DataFrame'>\n",
      "RangeIndex: 731 entries, 0 to 730\n",
      "Data columns (total 16 columns):\n",
      " #   Column      Non-Null Count  Dtype  \n",
      "---  ------      --------------  -----  \n",
      " 0   instant     731 non-null    int64  \n",
      " 1   dteday      731 non-null    object \n",
      " 2   season      731 non-null    int64  \n",
      " 3   yr          731 non-null    int64  \n",
      " 4   mnth        731 non-null    int64  \n",
      " 5   holiday     731 non-null    int64  \n",
      " 6   weekday     731 non-null    int64  \n",
      " 7   workingday  731 non-null    int64  \n",
      " 8   weathersit  731 non-null    int64  \n",
      " 9   temp        731 non-null    float64\n",
      " 10  atemp       731 non-null    float64\n",
      " 11  hum         731 non-null    float64\n",
      " 12  windspeed   731 non-null    float64\n",
      " 13  casual      731 non-null    int64  \n",
      " 14  registered  731 non-null    int64  \n",
      " 15  cnt         731 non-null    int64  \n",
      "dtypes: float64(4), int64(11), object(1)\n",
      "memory usage: 91.5+ KB\n"
     ]
    }
   ]
  },
  {
   "cell_type": "code",
   "source": [
    "# Cek Adanya Missing Value Dataframe Hour\n",
    "print('Missing value in Dataframe Hour:')\n",
    "print(df_hour.isna().sum())"
   ],
   "metadata": {
    "id": "jVnYpprE9Evz",
    "colab": {
     "base_uri": "https://localhost:8080/"
    },
    "outputId": "ec099246-2ac7-4a07-9ba6-c0d329f88ea2",
    "ExecuteTime": {
     "end_time": "2024-02-13T08:30:28.362291400Z",
     "start_time": "2024-02-13T08:30:28.311271Z"
    }
   },
   "execution_count": 7,
   "outputs": [
    {
     "name": "stdout",
     "output_type": "stream",
     "text": [
      "Missing value in Dataframe Hour:\n",
      "instant       0\n",
      "dteday        0\n",
      "season        0\n",
      "yr            0\n",
      "mnth          0\n",
      "hr            0\n",
      "holiday       0\n",
      "weekday       0\n",
      "workingday    0\n",
      "weathersit    0\n",
      "temp          0\n",
      "atemp         0\n",
      "hum           0\n",
      "windspeed     0\n",
      "casual        0\n",
      "registered    0\n",
      "cnt           0\n",
      "dtype: int64\n"
     ]
    }
   ]
  },
  {
   "cell_type": "code",
   "source": [
    "# Cek Adanya Missing Value Dataframe Day\n",
    "print('Missing value in Dataframe Day:')\n",
    "print(df_day.isna().sum())"
   ],
   "metadata": {
    "colab": {
     "base_uri": "https://localhost:8080/"
    },
    "id": "qiWcya5BFN8W",
    "outputId": "8d7e5bb5-da6f-44f8-d7ae-609744ba8795",
    "ExecuteTime": {
     "end_time": "2024-02-13T08:30:30.248338300Z",
     "start_time": "2024-02-13T08:30:30.216330Z"
    }
   },
   "execution_count": 8,
   "outputs": [
    {
     "name": "stdout",
     "output_type": "stream",
     "text": [
      "Missing value in Dataframe Day:\n",
      "instant       0\n",
      "dteday        0\n",
      "season        0\n",
      "yr            0\n",
      "mnth          0\n",
      "holiday       0\n",
      "weekday       0\n",
      "workingday    0\n",
      "weathersit    0\n",
      "temp          0\n",
      "atemp         0\n",
      "hum           0\n",
      "windspeed     0\n",
      "casual        0\n",
      "registered    0\n",
      "cnt           0\n",
      "dtype: int64\n"
     ]
    }
   ]
  },
  {
   "cell_type": "markdown",
   "source": [
    "Terlihat bahwa tidak terdapat missing value"
   ],
   "metadata": {
    "id": "hTCyxFKkFbL6"
   }
  },
  {
   "cell_type": "code",
   "source": [
    "# Cek Adanya Data Duplicate\n",
    "print(\"Dataframe hour:\", df_hour.duplicated().sum())\n",
    "print('Dataframe day:', df_day.duplicated().sum())\n"
   ],
   "metadata": {
    "colab": {
     "base_uri": "https://localhost:8080/"
    },
    "id": "J8vzYNAGFiw9",
    "outputId": "e8726f41-cb41-4ada-8ed0-a688b4cc276f",
    "ExecuteTime": {
     "end_time": "2024-02-13T08:30:33.115380500Z",
     "start_time": "2024-02-13T08:30:33.032363600Z"
    }
   },
   "execution_count": 9,
   "outputs": [
    {
     "name": "stdout",
     "output_type": "stream",
     "text": [
      "Dataframe hour: 0\n",
      "Dataframe day: 0\n"
     ]
    }
   ]
  },
  {
   "cell_type": "markdown",
   "source": [
    "Terlihat bahwa tidak adanya duplikasi data"
   ],
   "metadata": {
    "id": "nqbH8E5pFwLa"
   }
  },
  {
   "cell_type": "code",
   "source": [
    "#cek Deskripsi Statistik\n",
    "df_hour.describe()"
   ],
   "metadata": {
    "colab": {
     "base_uri": "https://localhost:8080/",
     "height": 320
    },
    "id": "wjlW02eOF6iF",
    "outputId": "53a9a9e2-92c2-485b-bd8e-fa36bb7bd23d",
    "ExecuteTime": {
     "end_time": "2024-02-13T08:30:36.461023500Z",
     "start_time": "2024-02-13T08:30:36.395017300Z"
    }
   },
   "execution_count": 10,
   "outputs": [
    {
     "data": {
      "text/plain": "          instant        season            yr          mnth            hr  \\\ncount  17379.0000  17379.000000  17379.000000  17379.000000  17379.000000   \nmean    8690.0000      2.501640      0.502561      6.537775     11.546752   \nstd     5017.0295      1.106918      0.500008      3.438776      6.914405   \nmin        1.0000      1.000000      0.000000      1.000000      0.000000   \n25%     4345.5000      2.000000      0.000000      4.000000      6.000000   \n50%     8690.0000      3.000000      1.000000      7.000000     12.000000   \n75%    13034.5000      3.000000      1.000000     10.000000     18.000000   \nmax    17379.0000      4.000000      1.000000     12.000000     23.000000   \n\n            holiday       weekday    workingday    weathersit          temp  \\\ncount  17379.000000  17379.000000  17379.000000  17379.000000  17379.000000   \nmean       0.028770      3.003683      0.682721      1.425283      0.496987   \nstd        0.167165      2.005771      0.465431      0.639357      0.192556   \nmin        0.000000      0.000000      0.000000      1.000000      0.020000   \n25%        0.000000      1.000000      0.000000      1.000000      0.340000   \n50%        0.000000      3.000000      1.000000      1.000000      0.500000   \n75%        0.000000      5.000000      1.000000      2.000000      0.660000   \nmax        1.000000      6.000000      1.000000      4.000000      1.000000   \n\n              atemp           hum     windspeed        casual    registered  \\\ncount  17379.000000  17379.000000  17379.000000  17379.000000  17379.000000   \nmean       0.475775      0.627229      0.190098     35.676218    153.786869   \nstd        0.171850      0.192930      0.122340     49.305030    151.357286   \nmin        0.000000      0.000000      0.000000      0.000000      0.000000   \n25%        0.333300      0.480000      0.104500      4.000000     34.000000   \n50%        0.484800      0.630000      0.194000     17.000000    115.000000   \n75%        0.621200      0.780000      0.253700     48.000000    220.000000   \nmax        1.000000      1.000000      0.850700    367.000000    886.000000   \n\n                cnt  \ncount  17379.000000  \nmean     189.463088  \nstd      181.387599  \nmin        1.000000  \n25%       40.000000  \n50%      142.000000  \n75%      281.000000  \nmax      977.000000  ",
      "text/html": "<div>\n<style scoped>\n    .dataframe tbody tr th:only-of-type {\n        vertical-align: middle;\n    }\n\n    .dataframe tbody tr th {\n        vertical-align: top;\n    }\n\n    .dataframe thead th {\n        text-align: right;\n    }\n</style>\n<table border=\"1\" class=\"dataframe\">\n  <thead>\n    <tr style=\"text-align: right;\">\n      <th></th>\n      <th>instant</th>\n      <th>season</th>\n      <th>yr</th>\n      <th>mnth</th>\n      <th>hr</th>\n      <th>holiday</th>\n      <th>weekday</th>\n      <th>workingday</th>\n      <th>weathersit</th>\n      <th>temp</th>\n      <th>atemp</th>\n      <th>hum</th>\n      <th>windspeed</th>\n      <th>casual</th>\n      <th>registered</th>\n      <th>cnt</th>\n    </tr>\n  </thead>\n  <tbody>\n    <tr>\n      <th>count</th>\n      <td>17379.0000</td>\n      <td>17379.000000</td>\n      <td>17379.000000</td>\n      <td>17379.000000</td>\n      <td>17379.000000</td>\n      <td>17379.000000</td>\n      <td>17379.000000</td>\n      <td>17379.000000</td>\n      <td>17379.000000</td>\n      <td>17379.000000</td>\n      <td>17379.000000</td>\n      <td>17379.000000</td>\n      <td>17379.000000</td>\n      <td>17379.000000</td>\n      <td>17379.000000</td>\n      <td>17379.000000</td>\n    </tr>\n    <tr>\n      <th>mean</th>\n      <td>8690.0000</td>\n      <td>2.501640</td>\n      <td>0.502561</td>\n      <td>6.537775</td>\n      <td>11.546752</td>\n      <td>0.028770</td>\n      <td>3.003683</td>\n      <td>0.682721</td>\n      <td>1.425283</td>\n      <td>0.496987</td>\n      <td>0.475775</td>\n      <td>0.627229</td>\n      <td>0.190098</td>\n      <td>35.676218</td>\n      <td>153.786869</td>\n      <td>189.463088</td>\n    </tr>\n    <tr>\n      <th>std</th>\n      <td>5017.0295</td>\n      <td>1.106918</td>\n      <td>0.500008</td>\n      <td>3.438776</td>\n      <td>6.914405</td>\n      <td>0.167165</td>\n      <td>2.005771</td>\n      <td>0.465431</td>\n      <td>0.639357</td>\n      <td>0.192556</td>\n      <td>0.171850</td>\n      <td>0.192930</td>\n      <td>0.122340</td>\n      <td>49.305030</td>\n      <td>151.357286</td>\n      <td>181.387599</td>\n    </tr>\n    <tr>\n      <th>min</th>\n      <td>1.0000</td>\n      <td>1.000000</td>\n      <td>0.000000</td>\n      <td>1.000000</td>\n      <td>0.000000</td>\n      <td>0.000000</td>\n      <td>0.000000</td>\n      <td>0.000000</td>\n      <td>1.000000</td>\n      <td>0.020000</td>\n      <td>0.000000</td>\n      <td>0.000000</td>\n      <td>0.000000</td>\n      <td>0.000000</td>\n      <td>0.000000</td>\n      <td>1.000000</td>\n    </tr>\n    <tr>\n      <th>25%</th>\n      <td>4345.5000</td>\n      <td>2.000000</td>\n      <td>0.000000</td>\n      <td>4.000000</td>\n      <td>6.000000</td>\n      <td>0.000000</td>\n      <td>1.000000</td>\n      <td>0.000000</td>\n      <td>1.000000</td>\n      <td>0.340000</td>\n      <td>0.333300</td>\n      <td>0.480000</td>\n      <td>0.104500</td>\n      <td>4.000000</td>\n      <td>34.000000</td>\n      <td>40.000000</td>\n    </tr>\n    <tr>\n      <th>50%</th>\n      <td>8690.0000</td>\n      <td>3.000000</td>\n      <td>1.000000</td>\n      <td>7.000000</td>\n      <td>12.000000</td>\n      <td>0.000000</td>\n      <td>3.000000</td>\n      <td>1.000000</td>\n      <td>1.000000</td>\n      <td>0.500000</td>\n      <td>0.484800</td>\n      <td>0.630000</td>\n      <td>0.194000</td>\n      <td>17.000000</td>\n      <td>115.000000</td>\n      <td>142.000000</td>\n    </tr>\n    <tr>\n      <th>75%</th>\n      <td>13034.5000</td>\n      <td>3.000000</td>\n      <td>1.000000</td>\n      <td>10.000000</td>\n      <td>18.000000</td>\n      <td>0.000000</td>\n      <td>5.000000</td>\n      <td>1.000000</td>\n      <td>2.000000</td>\n      <td>0.660000</td>\n      <td>0.621200</td>\n      <td>0.780000</td>\n      <td>0.253700</td>\n      <td>48.000000</td>\n      <td>220.000000</td>\n      <td>281.000000</td>\n    </tr>\n    <tr>\n      <th>max</th>\n      <td>17379.0000</td>\n      <td>4.000000</td>\n      <td>1.000000</td>\n      <td>12.000000</td>\n      <td>23.000000</td>\n      <td>1.000000</td>\n      <td>6.000000</td>\n      <td>1.000000</td>\n      <td>4.000000</td>\n      <td>1.000000</td>\n      <td>1.000000</td>\n      <td>1.000000</td>\n      <td>0.850700</td>\n      <td>367.000000</td>\n      <td>886.000000</td>\n      <td>977.000000</td>\n    </tr>\n  </tbody>\n</table>\n</div>"
     },
     "execution_count": 10,
     "metadata": {},
     "output_type": "execute_result"
    }
   ]
  },
  {
   "cell_type": "code",
   "source": [
    "#cek Deskripsi Statistik\n",
    "df_day.describe()"
   ],
   "metadata": {
    "colab": {
     "base_uri": "https://localhost:8080/",
     "height": 320
    },
    "id": "j4mP_oRoI7BG",
    "outputId": "85896801-edb6-4a9e-d770-93917b73be6c",
    "ExecuteTime": {
     "end_time": "2024-02-13T08:30:37.775593900Z",
     "start_time": "2024-02-13T08:30:37.658586700Z"
    }
   },
   "execution_count": 11,
   "outputs": [
    {
     "data": {
      "text/plain": "          instant      season          yr        mnth     holiday     weekday  \\\ncount  731.000000  731.000000  731.000000  731.000000  731.000000  731.000000   \nmean   366.000000    2.496580    0.500684    6.519836    0.028728    2.997264   \nstd    211.165812    1.110807    0.500342    3.451913    0.167155    2.004787   \nmin      1.000000    1.000000    0.000000    1.000000    0.000000    0.000000   \n25%    183.500000    2.000000    0.000000    4.000000    0.000000    1.000000   \n50%    366.000000    3.000000    1.000000    7.000000    0.000000    3.000000   \n75%    548.500000    3.000000    1.000000   10.000000    0.000000    5.000000   \nmax    731.000000    4.000000    1.000000   12.000000    1.000000    6.000000   \n\n       workingday  weathersit        temp       atemp         hum   windspeed  \\\ncount  731.000000  731.000000  731.000000  731.000000  731.000000  731.000000   \nmean     0.683995    1.395349    0.495385    0.474354    0.627894    0.190486   \nstd      0.465233    0.544894    0.183051    0.162961    0.142429    0.077498   \nmin      0.000000    1.000000    0.059130    0.079070    0.000000    0.022392   \n25%      0.000000    1.000000    0.337083    0.337842    0.520000    0.134950   \n50%      1.000000    1.000000    0.498333    0.486733    0.626667    0.180975   \n75%      1.000000    2.000000    0.655417    0.608602    0.730209    0.233214   \nmax      1.000000    3.000000    0.861667    0.840896    0.972500    0.507463   \n\n            casual   registered          cnt  \ncount   731.000000   731.000000   731.000000  \nmean    848.176471  3656.172367  4504.348837  \nstd     686.622488  1560.256377  1937.211452  \nmin       2.000000    20.000000    22.000000  \n25%     315.500000  2497.000000  3152.000000  \n50%     713.000000  3662.000000  4548.000000  \n75%    1096.000000  4776.500000  5956.000000  \nmax    3410.000000  6946.000000  8714.000000  ",
      "text/html": "<div>\n<style scoped>\n    .dataframe tbody tr th:only-of-type {\n        vertical-align: middle;\n    }\n\n    .dataframe tbody tr th {\n        vertical-align: top;\n    }\n\n    .dataframe thead th {\n        text-align: right;\n    }\n</style>\n<table border=\"1\" class=\"dataframe\">\n  <thead>\n    <tr style=\"text-align: right;\">\n      <th></th>\n      <th>instant</th>\n      <th>season</th>\n      <th>yr</th>\n      <th>mnth</th>\n      <th>holiday</th>\n      <th>weekday</th>\n      <th>workingday</th>\n      <th>weathersit</th>\n      <th>temp</th>\n      <th>atemp</th>\n      <th>hum</th>\n      <th>windspeed</th>\n      <th>casual</th>\n      <th>registered</th>\n      <th>cnt</th>\n    </tr>\n  </thead>\n  <tbody>\n    <tr>\n      <th>count</th>\n      <td>731.000000</td>\n      <td>731.000000</td>\n      <td>731.000000</td>\n      <td>731.000000</td>\n      <td>731.000000</td>\n      <td>731.000000</td>\n      <td>731.000000</td>\n      <td>731.000000</td>\n      <td>731.000000</td>\n      <td>731.000000</td>\n      <td>731.000000</td>\n      <td>731.000000</td>\n      <td>731.000000</td>\n      <td>731.000000</td>\n      <td>731.000000</td>\n    </tr>\n    <tr>\n      <th>mean</th>\n      <td>366.000000</td>\n      <td>2.496580</td>\n      <td>0.500684</td>\n      <td>6.519836</td>\n      <td>0.028728</td>\n      <td>2.997264</td>\n      <td>0.683995</td>\n      <td>1.395349</td>\n      <td>0.495385</td>\n      <td>0.474354</td>\n      <td>0.627894</td>\n      <td>0.190486</td>\n      <td>848.176471</td>\n      <td>3656.172367</td>\n      <td>4504.348837</td>\n    </tr>\n    <tr>\n      <th>std</th>\n      <td>211.165812</td>\n      <td>1.110807</td>\n      <td>0.500342</td>\n      <td>3.451913</td>\n      <td>0.167155</td>\n      <td>2.004787</td>\n      <td>0.465233</td>\n      <td>0.544894</td>\n      <td>0.183051</td>\n      <td>0.162961</td>\n      <td>0.142429</td>\n      <td>0.077498</td>\n      <td>686.622488</td>\n      <td>1560.256377</td>\n      <td>1937.211452</td>\n    </tr>\n    <tr>\n      <th>min</th>\n      <td>1.000000</td>\n      <td>1.000000</td>\n      <td>0.000000</td>\n      <td>1.000000</td>\n      <td>0.000000</td>\n      <td>0.000000</td>\n      <td>0.000000</td>\n      <td>1.000000</td>\n      <td>0.059130</td>\n      <td>0.079070</td>\n      <td>0.000000</td>\n      <td>0.022392</td>\n      <td>2.000000</td>\n      <td>20.000000</td>\n      <td>22.000000</td>\n    </tr>\n    <tr>\n      <th>25%</th>\n      <td>183.500000</td>\n      <td>2.000000</td>\n      <td>0.000000</td>\n      <td>4.000000</td>\n      <td>0.000000</td>\n      <td>1.000000</td>\n      <td>0.000000</td>\n      <td>1.000000</td>\n      <td>0.337083</td>\n      <td>0.337842</td>\n      <td>0.520000</td>\n      <td>0.134950</td>\n      <td>315.500000</td>\n      <td>2497.000000</td>\n      <td>3152.000000</td>\n    </tr>\n    <tr>\n      <th>50%</th>\n      <td>366.000000</td>\n      <td>3.000000</td>\n      <td>1.000000</td>\n      <td>7.000000</td>\n      <td>0.000000</td>\n      <td>3.000000</td>\n      <td>1.000000</td>\n      <td>1.000000</td>\n      <td>0.498333</td>\n      <td>0.486733</td>\n      <td>0.626667</td>\n      <td>0.180975</td>\n      <td>713.000000</td>\n      <td>3662.000000</td>\n      <td>4548.000000</td>\n    </tr>\n    <tr>\n      <th>75%</th>\n      <td>548.500000</td>\n      <td>3.000000</td>\n      <td>1.000000</td>\n      <td>10.000000</td>\n      <td>0.000000</td>\n      <td>5.000000</td>\n      <td>1.000000</td>\n      <td>2.000000</td>\n      <td>0.655417</td>\n      <td>0.608602</td>\n      <td>0.730209</td>\n      <td>0.233214</td>\n      <td>1096.000000</td>\n      <td>4776.500000</td>\n      <td>5956.000000</td>\n    </tr>\n    <tr>\n      <th>max</th>\n      <td>731.000000</td>\n      <td>4.000000</td>\n      <td>1.000000</td>\n      <td>12.000000</td>\n      <td>1.000000</td>\n      <td>6.000000</td>\n      <td>1.000000</td>\n      <td>3.000000</td>\n      <td>0.861667</td>\n      <td>0.840896</td>\n      <td>0.972500</td>\n      <td>0.507463</td>\n      <td>3410.000000</td>\n      <td>6946.000000</td>\n      <td>8714.000000</td>\n    </tr>\n  </tbody>\n</table>\n</div>"
     },
     "execution_count": 11,
     "metadata": {},
     "output_type": "execute_result"
    }
   ]
  },
  {
   "cell_type": "markdown",
   "metadata": {
    "id": "EhN5R4hr8DC1"
   },
   "source": [
    "### Cleaning Data"
   ]
  },
  {
   "cell_type": "markdown",
   "source": [
    "Karena data yang digunakan sudah bersih, jadi tidak diperlukan lagi cleaning data\n"
   ],
   "metadata": {
    "id": "u9gKK8bnJfMc"
   }
  },
  {
   "cell_type": "markdown",
   "metadata": {
    "id": "gp-Y6wU38DC1"
   },
   "source": [
    "## Exploratory Data Analysis (EDA)"
   ]
  },
  {
   "cell_type": "markdown",
   "metadata": {
    "id": "MW7WF2kr8DC1"
   },
   "source": []
  },
  {
   "cell_type": "markdown",
   "source": [
    "### Mengelompokan Data\n"
   ],
   "metadata": {
    "id": "nwhTLbJpMCsK"
   }
  },
  {
   "cell_type": "markdown",
   "source": [
    "Berdasarkan Season"
   ],
   "metadata": {
    "id": "t4NyYu52M2zr"
   }
  },
  {
   "cell_type": "code",
   "source": [
    "aggregated_data = df_day.groupby(by='season').agg({'cnt': ['max', 'min', 'mean', 'sum'] })\n",
    "aggregated_data.columns = ['Max Count', 'Min Count', 'Average Count', 'Total Count']\n",
    "aggregated_data = aggregated_data.reset_index()\n",
    "print(aggregated_data)"
   ],
   "metadata": {
    "colab": {
     "base_uri": "https://localhost:8080/"
    },
    "id": "r3XWkBeaM5gp",
    "outputId": "3f78622b-f15d-48f7-f01f-7a96b7020f90",
    "ExecuteTime": {
     "end_time": "2024-02-13T08:32:50.533562900Z",
     "start_time": "2024-02-13T08:32:50.510909Z"
    }
   },
   "execution_count": 13,
   "outputs": [
    {
     "name": "stdout",
     "output_type": "stream",
     "text": [
      "   season  Max Count  Min Count  Average Count  Total Count\n",
      "0       1       7836        431    2604.132597       471348\n",
      "1       2       8362        795    4992.331522       918589\n",
      "2       3       8714       1115    5644.303191      1061129\n",
      "3       4       8555         22    4728.162921       841613\n"
     ]
    }
   ]
  },
  {
   "cell_type": "markdown",
   "source": [
    "Berdasarkan Weather"
   ],
   "metadata": {
    "id": "i2DZnoS3Nabu"
   }
  },
  {
   "cell_type": "code",
   "source": [
    "aggregated_data = df_day.groupby(by='weathersit').agg({'cnt': ['max', 'min', 'mean', 'sum'] })\n",
    "aggregated_data.columns = ['Max Count', 'Min Count', 'Average Count', 'Total Count']\n",
    "aggregated_data = aggregated_data.reset_index()\n",
    "print(aggregated_data)"
   ],
   "metadata": {
    "colab": {
     "base_uri": "https://localhost:8080/"
    },
    "id": "vmoCTaQdNdiN",
    "outputId": "48a92b39-ff92-4bcf-9ab7-6a69b7ef10d8",
    "ExecuteTime": {
     "end_time": "2024-02-13T08:32:53.412881900Z",
     "start_time": "2024-02-13T08:32:53.373872200Z"
    }
   },
   "execution_count": 14,
   "outputs": [
    {
     "name": "stdout",
     "output_type": "stream",
     "text": [
      "   weathersit  Max Count  Min Count  Average Count  Total Count\n",
      "0           1       8714        431    4876.786177      2257952\n",
      "1           2       8362        605    4035.862348       996858\n",
      "2           3       4639         22    1803.285714        37869\n"
     ]
    }
   ]
  },
  {
   "cell_type": "markdown",
   "metadata": {
    "id": "zsyZjqak8DC2"
   },
   "source": [
    "## Visualization & Explanatory Analysis"
   ]
  },
  {
   "cell_type": "code",
   "source": [
    "import matplotlib.pyplot as plt"
   ],
   "metadata": {
    "id": "O_0S_08GP41-",
    "ExecuteTime": {
     "end_time": "2024-02-13T08:32:57.643150200Z",
     "start_time": "2024-02-13T08:32:57.594140500Z"
    }
   },
   "execution_count": 15,
   "outputs": []
  },
  {
   "cell_type": "markdown",
   "metadata": {
    "id": "HZxOiQ6n8DC2"
   },
   "source": [
    "**Pertanyaan 1: Berapa banyak jumlah total sewa sepeda(cnt) pada musim panas(season =2)?**"
   ]
  },
  {
   "cell_type": "code",
   "execution_count": 21,
   "metadata": {
    "id": "1swJUdAD8DC2",
    "colab": {
     "base_uri": "https://localhost:8080/"
    },
    "outputId": "9e23008c-ce3a-4004-f1d5-f9d69f17119a",
    "ExecuteTime": {
     "end_time": "2024-02-13T08:34:23.900442600Z",
     "start_time": "2024-02-13T08:34:23.867233700Z"
    }
   },
   "outputs": [
    {
     "name": "stdout",
     "output_type": "stream",
     "text": [
      "Jumlah total sewa sepeda  selama musim panas (musim 2): 918589\n"
     ]
    }
   ],
   "source": [
    "# Filter musim gugur (season 3)\n",
    "filtered_data = df_day[(df_day[\"season\"] == 2)]\n",
    "\n",
    "# Hitung jumlah total sewa sepeda (cnt)\n",
    "total_sewa_sepeda = filtered_data[\"cnt\"].sum()\n",
    "\n",
    "print(\"Jumlah total sewa sepeda  selama musim panas (musim 2):\", total_sewa_sepeda)"
   ]
  },
  {
   "cell_type": "markdown",
   "source": [
    "**Pertanyaan 2: Berapa banyak jumlah total sewa sepeda(cnt) pada hari kerja(workingday=1) dan pada hari tidak bekerja(workingday=0) pada tahun 2011(yr=0)?**"
   ],
   "metadata": {
    "id": "qtSp0d-abtLl"
   }
  },
  {
   "cell_type": "code",
   "source": [
    "# Filter tahun 2011  dan hari kerja (workingday = 0)\n",
    "filtered_data0 = df_day[(df_day[\"yr\"] == 0) & (df_day[\"workingday\"] == 0)]\n",
    "\n",
    "# Hitung jumlah total sepeda sewaan\n",
    "total_sewa_sepeda0 = filtered_data0[\"cnt\"].sum()\n",
    "\n",
    "print(\"Jumlah total sewa sepeda pada hari kerja pada tahun 2011:\", total_sewa_sepeda0)\n",
    "\n",
    "# Filter tahun 2011  dan hari kerja (workingday = 1)\n",
    "filtered_data = df_day[(df_day[\"yr\"] == 0) & (df_day[\"workingday\"] == 1)]\n",
    "\n",
    "# Hitung jumlah total sepeda sewaan\n",
    "total_sewa_sepeda = filtered_data[\"cnt\"].sum()\n",
    "\n",
    "print(\"Jumlah total sewa sepeda pada hari kerja pada tahun 2011:\", total_sewa_sepeda)\n",
    "\n",
    "\n"
   ],
   "metadata": {
    "colab": {
     "base_uri": "https://localhost:8080/"
    },
    "id": "-kRUJqU3UUWa",
    "outputId": "c98e7d80-9ef4-40a7-e46e-5fa3990f5a28",
    "ExecuteTime": {
     "end_time": "2024-02-13T08:33:03.696417600Z",
     "start_time": "2024-02-13T08:33:03.668413Z"
    }
   },
   "execution_count": 17,
   "outputs": [
    {
     "name": "stdout",
     "output_type": "stream",
     "text": [
      "Jumlah total sewa sepeda pada hari kerja pada tahun 2011: 386839\n",
      "Jumlah total sewa sepeda pada hari kerja pada tahun 2011: 856264\n"
     ]
    }
   ]
  },
  {
   "cell_type": "code",
   "source": [
    "komparasi = pd.DataFrame({'workingday':[0,1],\n",
    "                          'Total_Sewa':[total_sewa_sepeda0,total_sewa_sepeda]})\n",
    "\n",
    "komparasi.head()"
   ],
   "metadata": {
    "colab": {
     "base_uri": "https://localhost:8080/",
     "height": 112
    },
    "id": "TswXc5ungFrC",
    "outputId": "ad076c24-0220-4542-966e-3ae31da30ffc",
    "ExecuteTime": {
     "end_time": "2024-02-13T08:33:04.286549600Z",
     "start_time": "2024-02-13T08:33:04.261543200Z"
    }
   },
   "execution_count": 18,
   "outputs": [
    {
     "data": {
      "text/plain": "   workingday  Total_Sewa\n0           0      386839\n1           1      856264",
      "text/html": "<div>\n<style scoped>\n    .dataframe tbody tr th:only-of-type {\n        vertical-align: middle;\n    }\n\n    .dataframe tbody tr th {\n        vertical-align: top;\n    }\n\n    .dataframe thead th {\n        text-align: right;\n    }\n</style>\n<table border=\"1\" class=\"dataframe\">\n  <thead>\n    <tr style=\"text-align: right;\">\n      <th></th>\n      <th>workingday</th>\n      <th>Total_Sewa</th>\n    </tr>\n  </thead>\n  <tbody>\n    <tr>\n      <th>0</th>\n      <td>0</td>\n      <td>386839</td>\n    </tr>\n    <tr>\n      <th>1</th>\n      <td>1</td>\n      <td>856264</td>\n    </tr>\n  </tbody>\n</table>\n</div>"
     },
     "execution_count": 18,
     "metadata": {},
     "output_type": "execute_result"
    }
   ]
  },
  {
   "cell_type": "code",
   "source": [
    "# Membuat bar plot dengan keterangan jumlah\n",
    "fig, ax = plt.subplots()\n",
    "bars = plt.bar(komparasi['workingday'], komparasi['Total_Sewa'], color=['red','blue'])\n",
    "plt.xlabel('Model')\n",
    "plt.ylabel('Total Penyewa')\n",
    "plt.title('Perbandingan penyewa sepeda tahun 2011  pada saat hari kerja dan tidak')\n",
    "\n",
    "# Menambahkan keterangan jumlah di atas setiap bar\n",
    "for bar in bars:\n",
    "  yval = bar.get_height()\n",
    "  plt.text(bar.get_x() + bar.get_width()/2, yval, round(yval, 2), ha='center', va='bottom')\n",
    "\n",
    "plt.show()"
   ],
   "metadata": {
    "colab": {
     "base_uri": "https://localhost:8080/",
     "height": 472
    },
    "id": "U8rIzNMVf1Cl",
    "outputId": "65e705f5-998a-4841-9747-be3d073cb867",
    "ExecuteTime": {
     "end_time": "2024-02-13T08:33:05.648875600Z",
     "start_time": "2024-02-13T08:33:05.355791Z"
    }
   },
   "execution_count": 19,
   "outputs": [
    {
     "data": {
      "text/plain": "<Figure size 640x480 with 1 Axes>",
      "image/png": "[encoded data removed]"
     },
     "metadata": {},
     "output_type": "display_data"
    }
   ]
  },
  {
   "cell_type": "markdown",
   "metadata": {
    "id": "DgHI7CiU8DC2"
   },
   "source": [
    "**Pertanyaan 3: Apakah terdapat hubungan antara suhu(temp) dengan jumlah penyewaan sepeda kasual(casual)?**"
   ]
  },
  {
   "cell_type": "code",
   "execution_count": 20,
   "metadata": {
    "id": "Go0lCsvO8DC2",
    "colab": {
     "base_uri": "https://localhost:8080/",
     "height": 472
    },
    "outputId": "8e57ba67-4eee-4f5b-d497-46f748ae4fd9",
    "ExecuteTime": {
     "end_time": "2024-02-13T08:33:07.000061400Z",
     "start_time": "2024-02-13T08:33:06.712991800Z"
    }
   },
   "outputs": [
    {
     "data": {
      "text/plain": "<Figure size 640x480 with 1 Axes>",
      "image/png": "[encoded data removed]"
     },
     "metadata": {},
     "output_type": "display_data"
    }
   ],
   "source": [
    "# Hubungan suhu (temp) dengan jumlah pengguna kasual (casual)\n",
    "x=df_day[\"temp\"]\n",
    "y=df_day[\"casual\"]\n",
    "plt.scatter(x, y,color='blue')\n",
    "plt.title(\"Hubungan Suhu dengan Jumlah Pengguna Kasual\")\n",
    "plt.xlabel(\"Suhu(temp)\")\n",
    "plt.ylabel(\"Jumlah Pengguna Kasual\")\n",
    "plt.show()"
   ]
  },
  {
   "cell_type": "markdown",
   "metadata": {
    "id": "_WeHlCeX8DC2"
   },
   "source": [
    "## Conclusion"
   ]
  },
  {
   "cell_type": "markdown",
   "metadata": {
    "id": "ZTcyR48Y8DC2"
   },
   "source": [
    "**Conclution pertanyaan 1 :**\n",
    "\n",
    "  Jumlah Penyewa Sepeda pada musim panas sangat besar yaitu : 918589, hal ini mengindikasikan bahwa bisnis penyewaan sepeda pada musim panas sangat diminati\n",
    "\n",
    "**Conclution pertanyaan 2**\n",
    "\n",
    "  Penyewaan sepeda paling laris tahun 2011 pada saat hari kerja, terlihat didalam grafik bahwa pada saat hari kerja penyewaan sepeda mencapai angka 856264 sedangkat saat tidak bekerja penyewaan sepeda turun dengan angka 386839\n",
    "\n",
    "**Conclution pertanyaan 3**\n",
    "\n",
    "  Terlihat dalam grafik bahwa hubungan antara suhu dan jumlah pengguna kasusal yaitu, ketika suhu berada di kondisi normal (tidak terlalu dingin maupun panas) jumlah pengguna kasual pun menngkat"
   ]
  },
  {
   "cell_type": "code",
   "source": [],
   "metadata": {
    "id": "TfsmDpY9d_-y"
   },
   "execution_count": null,
   "outputs": []
  }
 ],
 "metadata": {
  "kernelspec": {
   "display_name": "Python 3",
   "language": "python",
   "name": "python3"
  },
  "language_info": {
   "name": "python",
   "version": "3.8.0 (tags/v3.8.0:fa919fd, Oct 14 2019, 19:21:23) [MSC v.1916 32 bit (Intel)]"
  },
  "orig_nbformat": 4,
  "vscode": {
   "interpreter": {
    "hash": "972b3bf27e332e87b5379f2791f6ef9dfc79c71018c370b0d7423235e20fe4d7"
   }
  },
  "colab": {
   "provenance": []
  }
 },
 "nbformat": 4,
 "nbformat_minor": 0
}
